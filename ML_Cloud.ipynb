{
  "nbformat": 4,
  "nbformat_minor": 0,
  "metadata": {
    "colab": {
      "provenance": [],
      "authorship_tag": "ABX9TyPpWCWeFmp8TcrLqzFg/+eT",
      "include_colab_link": true
    },
    "kernelspec": {
      "name": "python3",
      "display_name": "Python 3"
    },
    "language_info": {
      "name": "python"
    }
  },
  "cells": [
    {
      "cell_type": "markdown",
      "metadata": {
        "id": "view-in-github",
        "colab_type": "text"
      },
      "source": [
        "<a href=\"https://colab.research.google.com/github/lowtech1/CSP-1D_Optimization_with_GNN-ACO/blob/main/ML_Cloud.ipynb\" target=\"_parent\"><img src=\"https://colab.research.google.com/assets/colab-badge.svg\" alt=\"Open In Colab\"/></a>"
      ]
    },
    {
      "cell_type": "markdown",
      "source": [
        "Mô phỏng hoạt động của mapreduce đối với linear regression"
      ],
      "metadata": {
        "id": "0ixs8iQjTJVv"
      }
    },
    {
      "cell_type": "code",
      "execution_count": 2,
      "metadata": {
        "id": "vPAwvBKcM6VO"
      },
      "outputs": [],
      "source": [
        "import numpy as np\n",
        "import pandas as pd\n",
        "import matplotlib.pyplot as plt\n",
        "from sklearn.datasets import make_regression, make_classification\n",
        "import multiprocessing as mp\n",
        "from collections import defaultdict\n",
        "import time\n",
        "import random"
      ]
    },
    {
      "cell_type": "code",
      "source": [
        "print(\"Thiết lập môi trường\")\n",
        "print(f\"Số CPU có sẳn: {mp.cpu_count()}\")"
      ],
      "metadata": {
        "colab": {
          "base_uri": "https://localhost:8080/"
        },
        "id": "Kt3b0fP7S3fr",
        "outputId": "4483a722-dc5d-428b-f2ef-e06e9a31631f"
      },
      "execution_count": 3,
      "outputs": [
        {
          "output_type": "stream",
          "name": "stdout",
          "text": [
            "Thiết lập môi trường\n",
            "Số CPU có sẳn: 2\n"
          ]
        }
      ]
    },
    {
      "cell_type": "markdown",
      "source": [
        "Tạo tập dữ liệu"
      ],
      "metadata": {
        "id": "6LJUmrmuTQ8z"
      }
    },
    {
      "cell_type": "code",
      "source": [
        "X_reg, y_reg = make_regression(n_samples = 1000, n_features=5, noise=0.1, random_state=41)\n",
        "regression_data = list(zip(X_reg, y_reg))"
      ],
      "metadata": {
        "id": "SerSJHb3TETh"
      },
      "execution_count": 5,
      "outputs": []
    },
    {
      "cell_type": "markdown",
      "source": [
        "Thiết lập lớp MapReduce"
      ],
      "metadata": {
        "id": "TTpjyTc3TpIh"
      }
    },
    {
      "cell_type": "code",
      "source": [
        "class MapReduce:\n",
        "  def __init__(self, num_workers=None):\n",
        "    self.num_workers = num_workers or mp.cpu_count()\n",
        "  def map_reduce(self, data, mapper, reducer):\n",
        "    #Bắt đầu bước map\n",
        "    mapped_results = []\n",
        "\n",
        "    chunk_size = len(data) // self.num_workers\n",
        "    chunks = [data[i:i+chunk_size] for i in range (0, len(data), chunk_size)]\n",
        "\n",
        "    with mp.Pool(self.num_workers) as pool:\n",
        "      chunk_results = pool.map(mapper, chunks)\n",
        "      for result in chunk_results:\n",
        "        mapped_results.extend(result)\n",
        "\n",
        "      shuffled = defaultdict(list)\n",
        "      for key, value in mapped_results:\n",
        "        shuffled[key].append(value)\n",
        "\n",
        "      #Bắt đầu bước Reduce\n",
        "      reduced_results = []\n",
        "      key_chunks  = [list(shuffled.items())[i:i + chunk_size]\n",
        "                     for i  in range(0,len(shuffled), chunk_size)]\n",
        "      with mp.Pool(self.num_workers) as pool:\n",
        "        reduce_chunk_results = pool.map(reducer, key_chunks)\n",
        "        for result in reduce_chunk_results:\n",
        "          reduced_results.extend(result)\n",
        "      return dict(reduced_results)\n",
        "\n",
        "    def sequential_map_reduce(self, data, mapper, reducer):\n",
        "      mapped = []\n",
        "      for item in data:\n",
        "        mapped.extend(mapper([item]))\n",
        "      shuffled = defaultdict(list)\n",
        "      for key, value in mapped:\n",
        "        shuffled[key].append(value)\n",
        "\n",
        "      reduced= []\n",
        "      for key, values in shuffled.items():\n",
        "        reduced.append(reducer([(key, values)]))\n",
        "      return dict([item for sublist in reduced for item in sublist])\n"
      ],
      "metadata": {
        "id": "xxTXfAhbTobM"
      },
      "execution_count": 6,
      "outputs": []
    },
    {
      "cell_type": "markdown",
      "source": [
        "Tạo một đối tượng MapReduce"
      ],
      "metadata": {
        "id": "7dvWcKjnXB_h"
      }
    },
    {
      "cell_type": "code",
      "source": [
        "mr = MapReduce(num_workers= 4)"
      ],
      "metadata": {
        "id": "dgW2UYUYW_-4"
      },
      "execution_count": 7,
      "outputs": []
    },
    {
      "cell_type": "markdown",
      "source": [
        "Tạo một lớp MapReduceLinearRegression"
      ],
      "metadata": {
        "id": "Aa_CMQqnXO53"
      }
    },
    {
      "cell_type": "code",
      "source": [
        "class MapReduceLinearRegression:\n",
        "  def __init__(self, learning_rate=0.01, max_iter=100):\n",
        "    self.learning_rate = learning_rate\n",
        "    self.max_iter = max_iter\n",
        "    self.weights = None\n",
        "    self.bias = 0.0\n",
        "    self.history = []\n",
        "  def initialize_parameters(self, n_features):\n",
        "    self.weights = np.random.normal(0, 0.1, n_features)\n",
        "    self.bias = 0.0\n",
        "\n",
        "  def predict(self, features):\n",
        "    return np.dot(features, self.weights) + self.bias\n",
        "  def mapper_linear_regression(self, data_chunk):\n",
        "    gradients = []\n",
        "    for features, target in data_chunk:\n",
        "      prediction = self.predict(features)\n",
        "      error = prediction - target\n",
        "\n",
        "      grad_bias = error\n",
        "      grad_weights = error * features\n",
        "\n",
        "      gradients.append(('bias_grad', grad_bias))\n",
        "      gradients.append(('weights_grad', grad_weights))\n",
        "      gradients.append(('count', 1))\n",
        "    return gradients\n",
        "\n",
        "  def reducer_linear_regression(self, key_values_chunk):\n",
        "    reduced = []\n",
        "    for key, values in key_values_chunk:\n",
        "      if key == 'bias_grad':\n",
        "        total = np.sum(values)\n",
        "        reduced.append(('bias_grad', total))\n",
        "      elif key == 'weights_grad':\n",
        "        total = np.sum(values, axis=0)\n",
        "        reduced.append(('weights_grad', total))\n",
        "      elif key == 'count':\n",
        "        total = np.sum(values)\n",
        "        reduced.append(('count', total))\n",
        "    return reduced\n",
        "\n",
        "  def compute_loss(self, data):\n",
        "    total_error = 0.0\n",
        "    for features, target in data:\n",
        "      prediction = self.predict(features)\n",
        "      error = (prediction - target) ** 2\n",
        "      total_error += error\n",
        "    return total_error / len(data)\n",
        "\n",
        "  def train(self, data):\n",
        "    n_features = len(data[0][0])\n",
        "    self.initialize_parameters(n_features)\n",
        "\n",
        "    for iteration in range(self.max_iter):\n",
        "      gradients = mr.map_reduce(\n",
        "          data,\n",
        "          self.mapper_linear_regression,\n",
        "          self.reducer_linear_regression)\n",
        "      total_count = gradients['count']\n",
        "      self.bias -=self.learning_rate * gradients['bias_grad'] / total_count\n",
        "      self.weights -= self.learning_rate * gradients['weights_grad'] / total_count\n",
        "\n",
        "      loss = self.compute_loss(data)\n",
        "      self.history.append(loss)\n",
        "\n",
        "      if iteration % 10 == 0:\n",
        "        print(f'Iteration {iteration}: Loss = {loss:.4f}')\n",
        "\n",
        "      if iteration > 10 and abs(self.history[-2] - self.history[-1]) < 1e-6:\n",
        "        print(f'Quá trình học dừng ở {iteration + 1} iterration')\n",
        "        break\n",
        "    return self.history"
      ],
      "metadata": {
        "id": "zv1gV64nXLQn"
      },
      "execution_count": 12,
      "outputs": []
    },
    {
      "cell_type": "markdown",
      "source": [
        "Huấn luyện và dự đoán trên tập dữ liệu"
      ],
      "metadata": {
        "id": "fMIXt67AejRi"
      }
    },
    {
      "cell_type": "code",
      "source": [
        "linear_model = MapReduceLinearRegression(learning_rate=0.001, max_iter=50)\n",
        "loss_history = linear_model.train(regression_data[:800])\n",
        "\n",
        "plt.figure(figsize = (12,4))\n",
        "plt.subplot(1,2,1)\n",
        "plt.plot(loss_history)\n",
        "plt.title(' Linear Regression Loss History')\n",
        "plt.xlabel('Iteration')\n",
        "plt.ylabel('MSR Loss')\n",
        "plt.grid(True)\n",
        "\n",
        "test_predictions = [linear_model.predict(features) for features, _ in regression_data[800:]]\n",
        "test_actual = [target for _,target in regression_data[800:]]\n",
        "\n",
        "plt.subplot(1,2,2)\n",
        "plt.scatter(test_actual, test_predictions, alpha=0.6)\n",
        "plt.plot([min(test_actual), max(test_actual)], [min(test_actual), max(test_actual)], \"r--\")\n",
        "plt.title('Dự đoán vs thực tế')\n",
        "plt.xlabel('Thực tế')\n",
        "plt.ylabel('Dự đoán')\n",
        "plt.grid(True)\n",
        "\n",
        "plt.tight_layout()\n",
        "plt.show()\n"
      ],
      "metadata": {
        "colab": {
          "base_uri": "https://localhost:8080/",
          "height": 336
        },
        "id": "PUvpqYD6eikG",
        "outputId": "5fcc17ea-4944-40a2-be31-e5df822cc151"
      },
      "execution_count": 15,
      "outputs": [
        {
          "output_type": "stream",
          "name": "stdout",
          "text": [
            "Iteration 0: Loss = 15843.9461\n",
            "Iteration 10: Loss = 15518.3494\n",
            "Iteration 20: Loss = 15199.4510\n",
            "Iteration 30: Loss = 14887.1128\n",
            "Iteration 40: Loss = 14581.1999\n"
          ]
        },
        {
          "output_type": "display_data",
          "data": {
            "text/plain": [
              "<Figure size 1200x400 with 2 Axes>"
            ],
            "image/png": "[encoded data removed]"
          },
          "metadata": {}
        }
      ]
    },
    {
      "cell_type": "code",
      "source": [
        "from sklearn.datasets import make_blobs, load_iris\n",
        "import numpy as np\n",
        "from collections import defaultdict\n",
        "from sklearn.model_selection import train_test_split\n",
        "from sklearn.metrics import accuracy_score\n",
        "\n",
        "# Tạo dữ liệu cho K-Means\n",
        "X_km, y_km = make_blobs(n_samples=1000, centers=3, n_features=2, random_state=42, cluster_std=1.0)\n",
        "\n",
        "def euclidean_distance(point1, point2):\n",
        "    return np.sqrt(np.sum((point1 - point2)**2))\n",
        "\n",
        "def mapper_kmeans(centroids, data_chunk):\n",
        "    assignments = []\n",
        "    k = len(centroids)\n",
        "    for features in data_chunk:\n",
        "        dist_to_centroids = [euclidean_distance(features, c) for c in centroids]\n",
        "        cluster = np.argmin(dist_to_centroids)\n",
        "        assignments.append((cluster, features))\n",
        "    return assignments\n",
        "\n",
        "def update_centroids(cluster_points, k, old_centroids):\n",
        "    new_centroids = []\n",
        "    for i in range(k):\n",
        "        points = cluster_points.get(i, [])\n",
        "        if points:\n",
        "            new_centroids.append(np.mean(points, axis=0))\n",
        "        else:\n",
        "            new_centroids.append(old_centroids[i])\n",
        "    return np.array(new_centroids)\n",
        "\n",
        "def compute_inertia(centroids, data):\n",
        "    total_dist = 0\n",
        "    for features in data:\n",
        "        dist_to_centroids = [euclidean_distance(features, c) for c in centroids]\n",
        "        total_dist += min(dist_to_centroids)\n",
        "    return total_dist / len(data)\n",
        "\n",
        "class MapReduceKMeans:\n",
        "    def __init__(self, k=3, max_iter=100, num_workers=4):\n",
        "        self.k = k\n",
        "        self.max_iter = max_iter\n",
        "        self.num_workers = num_workers\n",
        "        self.centroids = None\n",
        "        self.history = []\n",
        "\n",
        "    def train(self, data):\n",
        "        # Initialize\n",
        "        n_samples = len(data)\n",
        "        idx = np.random.choice(n_samples, self.k, replace=False)\n",
        "        self.centroids = np.array([data[i][0] for i in idx])\n",
        "\n",
        "        prev_inertia = float('inf')\n",
        "\n",
        "        for iteration in range(self.max_iter):\n",
        "            # Simulate Map (sequential)\n",
        "            chunk_size = len(data) // self.num_workers\n",
        "            chunks = [data[i:i+chunk_size] for i in range(0, len(data), chunk_size)]\n",
        "\n",
        "            mapper_partial = lambda chunk: mapper_kmeans(self.centroids, chunk)\n",
        "            chunk_assign = [mapper_partial(chunk) for chunk in chunks]\n",
        "\n",
        "            all_assignments = []\n",
        "            for assign in chunk_assign:\n",
        "                all_assignments.extend(assign)\n",
        "\n",
        "            # Simulate Reduce\n",
        "            cluster_points = defaultdict(list)\n",
        "            for cluster, point in all_assignments:\n",
        "                cluster_points[cluster].append(point)\n",
        "\n",
        "            # Update\n",
        "            new_centroids = update_centroids(cluster_points, self.k, self.centroids)\n",
        "\n",
        "            # Inertia\n",
        "            features_data = [d[0] for d in data]\n",
        "            inertia = compute_inertia(new_centroids, features_data)\n",
        "            self.history.append(inertia)\n",
        "\n",
        "            if abs(prev_inertia - inertia) < 1e-6:\n",
        "                print(f'K-Means converged at iteration {iteration}')\n",
        "                break\n",
        "            prev_inertia = inertia\n",
        "            self.centroids = new_centroids\n",
        "\n",
        "            if iteration % 10 == 0:\n",
        "                print(f'K-Means Iteration {iteration}: Inertia = {inertia:.4f}')\n",
        "\n",
        "        return self.history, self.centroids\n",
        "\n",
        "# Chạy K-Means\n",
        "kmeans_model = MapReduceKMeans(k=3, max_iter=50)\n",
        "data_km = [(x,) for x in X_km]\n",
        "history, final_centroids = kmeans_model.train(data_km)\n",
        "print('Final centroids for K-Means:')\n",
        "print(final_centroids)\n",
        "\n",
        "# KNN\n",
        "def mapper_knn(train_chunk, test_point):\n",
        "    neighbors = []\n",
        "    for features, label in train_chunk:\n",
        "        dist = euclidean_distance(test_point, features)\n",
        "        neighbors.append((dist, label))\n",
        "    return neighbors\n",
        "\n",
        "def reducer_knn(neighbors_list, k):\n",
        "    all_neighbors = []\n",
        "    for neigh in neighbors_list:\n",
        "        all_neighbors.extend(neigh)\n",
        "    all_neighbors.sort(key=lambda x: x[0])\n",
        "    top_k = all_neighbors[:k]\n",
        "    labels = [label for _, label in top_k]\n",
        "    prediction = np.bincount(labels).argmax()\n",
        "    return prediction\n",
        "\n",
        "class MapReduceKNN:\n",
        "    def __init__(self, k=5, num_workers=4):\n",
        "        self.k = k\n",
        "        self.num_workers = num_workers\n",
        "\n",
        "    def predict(self, X_test, train_data):\n",
        "        predictions = []\n",
        "        for test_point in X_test:\n",
        "            # Simulate Map (sequential)\n",
        "            chunk_size = len(train_data) // self.num_workers\n",
        "            chunks = [train_data[i:i+chunk_size] for i in range(0, len(train_data), chunk_size)]\n",
        "\n",
        "            chunk_neighbors = [mapper_knn(chunk, test_point) for chunk in chunks]\n",
        "\n",
        "            # Reduce\n",
        "            pred = reducer_knn(chunk_neighbors, self.k)\n",
        "            predictions.append(pred)\n",
        "        return np.array(predictions)\n",
        "\n",
        "iris = load_iris()\n",
        "X_knn = iris.data\n",
        "y_knn = iris.target\n",
        "X_train, X_test, y_train, y_test = train_test_split(X_knn, y_knn, test_size=0.2, random_state=42)\n",
        "\n",
        "knn_model = MapReduceKNN(k=5)\n",
        "train_data = list(zip(X_train, y_train))\n",
        "predictions = knn_model.predict(X_test, train_data)\n",
        "acc = accuracy_score(y_test, predictions)\n",
        "print('KNN Predictions:', predictions)\n",
        "print('True labels:', y_test)\n",
        "print('KNN Accuracy:', acc)"
      ],
      "metadata": {
        "colab": {
          "base_uri": "https://localhost:8080/"
        },
        "id": "LZyajj7mqMvG",
        "outputId": "86daa395-15da-40da-bef6-911fa8982e04"
      },
      "execution_count": 16,
      "outputs": [
        {
          "output_type": "stream",
          "name": "stdout",
          "text": [
            "K-Means Iteration 0: Inertia = 4.5172\n",
            "K-Means converged at iteration 3\n",
            "Final centroids for K-Means:\n",
            "[[[-2.52414179  9.00394283]]\n",
            "\n",
            " [[-6.86656253 -6.78519427]]\n",
            "\n",
            " [[ 4.7286341   2.05557266]]]\n",
            "KNN Predictions: [1 0 2 1 1 0 1 2 1 1 2 0 0 0 0 1 2 1 1 2 0 2 0 2 2 2 2 2 0 0]\n",
            "True labels: [1 0 2 1 1 0 1 2 1 1 2 0 0 0 0 1 2 1 1 2 0 2 0 2 2 2 2 2 0 0]\n",
            "KNN Accuracy: 1.0\n"
          ]
        }
      ]
    }
  ]
}